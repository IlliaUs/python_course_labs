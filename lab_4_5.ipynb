{
 "cells": [
  {
   "cell_type": "code",
   "execution_count": 2,
   "id": "42b70b53",
   "metadata": {
    "scrolled": true
   },
   "outputs": [],
   "source": [
    "import random\n",
    "import numpy as np\n",
    "from random import randint\n",
    "from datetime import datetime\n",
    "import time"
   ]
  },
  {
   "cell_type": "code",
   "execution_count": 19,
   "id": "143257cf-aec6-4b1d-835d-36d43c313482",
   "metadata": {},
   "outputs": [
    {
     "name": "stdout",
     "output_type": "stream",
     "text": [
      "1\n",
      "0:00:00\n"
     ]
    },
    {
     "data": {
      "text/plain": [
       "[[1]]"
      ]
     },
     "execution_count": 19,
     "metadata": {},
     "output_type": "execute_result"
    }
   ],
   "source": [
    "# Вводиться число n. Вивести масив разміра nхn, в якому по\n",
    "# діагоналі йдуть числа від 1 до n, а інші числа рівні 0\n",
    "def task_1():\n",
    "    n = int(input())\n",
    "    start_time = datetime.now()\n",
    "    matrix = []\n",
    "    for number in range (1,n+1):\n",
    "        array = []\n",
    "        for number1 in range (1,n+1):\n",
    "            if number1!=number:\n",
    "                array.append(0)\n",
    "            else:\n",
    "                array.append(number1)\n",
    "            if number1==n:\n",
    "                matrix.append(array)\n",
    "    print(datetime.now() - start_time)\n",
    "    return matrix\n",
    "    \n",
    "task_1()    "
   ]
  },
  {
   "cell_type": "code",
   "execution_count": 20,
   "id": "944d5eaf",
   "metadata": {},
   "outputs": [
    {
     "name": "stdout",
     "output_type": "stream",
     "text": [
      "1\n",
      "[1]\n",
      "0:00:00\n"
     ]
    },
    {
     "data": {
      "text/plain": [
       "array([[1]])"
      ]
     },
     "execution_count": 20,
     "metadata": {},
     "output_type": "execute_result"
    }
   ],
   "source": [
    "def task_1_np():\n",
    "    n = int(input())\n",
    "    start_time = datetime.now()\n",
    "    a = np.zeros((n, n), int)\n",
    "    test = np.arange(1,n+1)\n",
    "    print(test)\n",
    "    np.fill_diagonal(a, test)\n",
    "    print(datetime.now() - start_time)\n",
    "    return a;\n",
    "\n",
    "task_1_np()"
   ]
  },
  {
   "cell_type": "code",
   "execution_count": 7,
   "id": "a2097492-df89-4a8c-8e7c-f90667ba79c8",
   "metadata": {},
   "outputs": [
    {
     "name": "stdout",
     "output_type": "stream",
     "text": [
      "6\n",
      "7\n",
      "2\n",
      "3\n"
     ]
    },
    {
     "data": {
      "text/plain": [
       "[[0, 0, 0, 0, 0, 0, 0],\n",
       " [0, 1, 1, 0, 1, 1, 0],\n",
       " [0, 0, 0, 0, 0, 0, 0],\n",
       " [0, 1, 1, 0, 1, 1, 0],\n",
       " [0, 0, 0, 0, 0, 0, 0],\n",
       " [0, 1, 1, 0, 1, 1, 0]]"
      ]
     },
     "execution_count": 7,
     "metadata": {},
     "output_type": "execute_result"
    }
   ],
   "source": [
    "# Вводяться 4 числа n, m, r, c. Вивести масив розміру n на m, в\n",
    "# якому в кожному r -му рядку і в кожному c-му стовпчику стоять 0, а інші\n",
    "# елементи дорівнюють 1.\n",
    "def task_3():\n",
    "    n = int(input())\n",
    "    m = int(input())\n",
    "    r = int(input())\n",
    "    c = int(input())\n",
    "    matrix = []\n",
    "    for i in range (0,n):\n",
    "        array = []\n",
    "        for j in range (0, m):\n",
    "            if (i%r==0):\n",
    "                array.append(0)\n",
    "            else:\n",
    "                if (j%c==0):\n",
    "                    array.append(0)\n",
    "                else:\n",
    "                    array.append(1)\n",
    "        matrix.append(array)\n",
    "    return(matrix)\n",
    "        \n",
    "task_3()"
   ]
  },
  {
   "cell_type": "code",
   "execution_count": 13,
   "id": "46a8a99e",
   "metadata": {},
   "outputs": [
    {
     "name": "stdout",
     "output_type": "stream",
     "text": [
      "6\n",
      "7\n",
      "2\n",
      "3\n"
     ]
    },
    {
     "data": {
      "text/plain": [
       "array([[0, 0, 0, 0, 0, 0, 0],\n",
       "       [0, 1, 1, 0, 1, 1, 0],\n",
       "       [0, 0, 0, 0, 0, 0, 0],\n",
       "       [0, 1, 1, 0, 1, 1, 0],\n",
       "       [0, 0, 0, 0, 0, 0, 0],\n",
       "       [0, 1, 1, 0, 1, 1, 0]])"
      ]
     },
     "execution_count": 13,
     "metadata": {},
     "output_type": "execute_result"
    }
   ],
   "source": [
    "def task_3_np():\n",
    "    n = int(input())\n",
    "    m = int(input())\n",
    "    r = int(input())\n",
    "    c = int(input())\n",
    "    a = np.ones((n, m), int)\n",
    "    a[::r ] = 0\n",
    "    a[0:n,::c] = 0\n",
    "    return a;\n",
    "\n",
    "task_3_np()"
   ]
  },
  {
   "cell_type": "code",
   "execution_count": 2,
   "id": "00eb6127",
   "metadata": {},
   "outputs": [
    {
     "name": "stdout",
     "output_type": "stream",
     "text": [
      "3 4\n",
      "[[012]\n",
      " [000]\n",
      " [000]]\n"
     ]
    },
    {
     "data": {
      "text/plain": [
       "'[[012]\\n [000]\\n [000]]'"
      ]
     },
     "execution_count": 2,
     "metadata": {},
     "output_type": "execute_result"
    }
   ],
   "source": [
    "# Вводяться числа n і m. Вивести масив розміру n на m, в якому упершому рядку (рядок з нулевим індексом)\n",
    "# йдуть числа від 0 до m-1, а всі інші елементи матриці дорівнюють 0.\n",
    "def task_4(): \n",
    "    n,m=map(int,input().split())\n",
    "    count = 0 \n",
    "    text = \"[\"\n",
    "    for i in range(n):\n",
    "        text= text+\"[\"\n",
    "        for j in range(n):\n",
    "            if i==0 and count < m:\n",
    "                text = text + str(count)\n",
    "                count = count+1\n",
    "            else:\n",
    "                text = text + \"0\"\n",
    "        text= text+\"]\"\n",
    "        if i != n-1:\n",
    "            text = text + \"\\n \"\n",
    "    text = text + \"]\"\n",
    "    print(text)\n",
    "    return text\n",
    "\n",
    "task_4()"
   ]
  },
  {
   "cell_type": "code",
   "execution_count": 2,
   "id": "d7c81e5a",
   "metadata": {},
   "outputs": [
    {
     "name": "stdout",
     "output_type": "stream",
     "text": [
      "3 4\n"
     ]
    },
    {
     "data": {
      "text/plain": [
       "array([[0, 1, 2],\n",
       "       [0, 0, 0],\n",
       "       [0, 0, 0]])"
      ]
     },
     "execution_count": 2,
     "metadata": {},
     "output_type": "execute_result"
    }
   ],
   "source": [
    "def task_4np():\n",
    "    n,m=map(int,input().split())\n",
    "    Z = np.zeros((n,n), dtype=int)\n",
    "    P = np.arange(m)\n",
    "    if m < n:\n",
    "        Z[0, 0:m] = P[0:m] \n",
    "    if m >= n:\n",
    "        Z[0, 0:n] = P[0:n]\n",
    "    return Z\n",
    "\n",
    "task_4np()"
   ]
  },
  {
   "cell_type": "code",
   "execution_count": 3,
   "id": "8e106857-cdfa-4624-9562-9cf642499c8b",
   "metadata": {},
   "outputs": [
    {
     "name": "stdout",
     "output_type": "stream",
     "text": [
      "1 0 0 -10 1\n",
      "[-1, 0, 0, -1, -1]\n"
     ]
    },
    {
     "data": {
      "text/plain": [
       "[-1, 0, 0, -1, -1]"
      ]
     },
     "execution_count": 3,
     "metadata": {},
     "output_type": "execute_result"
    }
   ],
   "source": [
    "# З клавіатури вводиться масив. Замінити всі ненульові елементи на -1.\n",
    "def task_6():\n",
    "    my_list = [int(el) for el in input().split()]\n",
    "    for i, n in enumerate(my_list):\n",
    "        if n != 0:\n",
    "            my_list[i] = -1\n",
    "    print(my_list)\n",
    "    return my_list\n",
    "\n",
    "task_6()"
   ]
  },
  {
   "cell_type": "code",
   "execution_count": 6,
   "id": "5b48fdc6",
   "metadata": {},
   "outputs": [
    {
     "name": "stdout",
     "output_type": "stream",
     "text": [
      "1 0 0 -10 1\n"
     ]
    },
    {
     "data": {
      "text/plain": [
       "array([-1,  0,  0, -1, -1])"
      ]
     },
     "execution_count": 6,
     "metadata": {},
     "output_type": "execute_result"
    }
   ],
   "source": [
    "def task_6_np():\n",
    "    my_list = [int(el) for el in input().split()]\n",
    "    my_array = np.array(my_list)\n",
    "    my_array[my_array != 0] = -1\n",
    "    return my_array\n",
    "\n",
    "task_6_np()"
   ]
  },
  {
   "cell_type": "code",
   "execution_count": 19,
   "id": "898892b9-dda1-4bb6-8f39-2429daf495bc",
   "metadata": {},
   "outputs": [
    {
     "name": "stdout",
     "output_type": "stream",
     "text": [
      "2\n",
      "2\n",
      "мінімум:  0.163331872094852\n",
      "максімум:  0.7435306787742307\n",
      "середнє:  0.4534312754345414\n",
      "дисперсія 0.29009940333968937\n"
     ]
    }
   ],
   "source": [
    "# Вводиться числа n i m. Створити масив випадкових значень n на m\n",
    "# і обчислити мінімальне, максимальне значення, середнє та середньо\n",
    "# квадратичне відхилення, округлене до 3 знаків після коми\n",
    "def task_10():\n",
    "    n = int(input())\n",
    "    m = int(input())\n",
    "    arr = []\n",
    "    for i in range(n):\n",
    "        arr.append([random.random()] * m)\n",
    "    max_elem = arr[0][0]\n",
    "    min_elem = arr[0][0]\n",
    "    Sum = 0\n",
    "    arr_length = n * m\n",
    "    for i in range(len(arr)):\n",
    "        for j in range(len(arr[i] )):\n",
    "             Sum += arr[j][j]\n",
    "             if arr[i][j] > max_elem:\n",
    "                   max_elem =  arr[i][j]\n",
    "             if arr[i][j] < min_elem:\n",
    "                   min_elem =  arr[i][j]\n",
    "    avg = Sum/arr_length\n",
    "    Sum_dev_arr = 0\n",
    "    for i in range(len(arr)):\n",
    "        for j in range(len(arr[i] )):\n",
    "            Sum_dev_arr += (arr[i][j] - avg)**2\n",
    "    disperse = (Sum_dev_arr / arr_length)**0.5\n",
    "    print(\"мінімум: \",min_elem)\n",
    "    print(\"максімум: \",max_elem)\n",
    "    print(\"середнє: \",avg)\n",
    "    print(\"дисперсія\", disperse)\n",
    "    \n",
    "task_10()"
   ]
  },
  {
   "cell_type": "code",
   "execution_count": 24,
   "id": "2f995d38",
   "metadata": {},
   "outputs": [
    {
     "name": "stdout",
     "output_type": "stream",
     "text": [
      "3\n",
      "4\n",
      "[[4 6 8 0]\n",
      " [8 5 7 3]\n",
      " [4 5 5 6]]\n",
      "мінімум:  0\n",
      "максімум:  8\n",
      "середнє:  5.083333333333333\n",
      "дисперсія 2.1392496088322392\n"
     ]
    }
   ],
   "source": [
    "def task_10_np():\n",
    "    n = int(input())\n",
    "    m = int(input())\n",
    "    values = np.random.randint(10, size=(n,m))\n",
    "    print(values)\n",
    "    print(\"мінімум: \", np.min(values))\n",
    "    print(\"максімум: \", np.max(values))\n",
    "    print(\"середнє: \",np.average(values))\n",
    "    print(\"дисперсія\", np.std(values))\n",
    "\n",
    "task_10_np()"
   ]
  },
  {
   "cell_type": "code",
   "execution_count": 22,
   "id": "b3c5740b",
   "metadata": {},
   "outputs": [
    {
     "name": "stdout",
     "output_type": "stream",
     "text": [
      "5\n",
      "[[00000]\n",
      " [01110]\n",
      " [01110]\n",
      " [01110]\n",
      " [00000]]\n"
     ]
    },
    {
     "data": {
      "text/plain": [
       "'[[00000]\\n [01110]\\n [01110]\\n [01110]\\n [00000]]'"
      ]
     },
     "execution_count": 22,
     "metadata": {},
     "output_type": "execute_result"
    }
   ],
   "source": [
    "#Створити масив одиниць розміром n х n та створити в ньому «рамку», сформовану з 0.\n",
    "def task_12(): \n",
    "    n = int(input()) \n",
    "    text = \"[\"\n",
    "    for i in range(n):\n",
    "        text= text+\"[\"\n",
    "        for j in range(n):\n",
    "            if i==0 or j==0 or i==n-1 or j==n-1:\n",
    "                text = text + \"0\"\n",
    "            else:\n",
    "                text = text + \"1\"\n",
    "        text= text+\"]\"\n",
    "        if i != n-1:\n",
    "            text = text + \"\\n \"\n",
    "    text = text + \"]\"\n",
    "    print(text)\n",
    "    return text\n",
    "\n",
    "task_12()"
   ]
  },
  {
   "cell_type": "code",
   "execution_count": 18,
   "id": "c0528cdf",
   "metadata": {},
   "outputs": [
    {
     "name": "stdout",
     "output_type": "stream",
     "text": [
      "4\n"
     ]
    },
    {
     "data": {
      "text/plain": [
       "array([[0, 0, 0, 0],\n",
       "       [0, 1, 1, 0],\n",
       "       [0, 1, 1, 0],\n",
       "       [0, 0, 0, 0]])"
      ]
     },
     "execution_count": 18,
     "metadata": {},
     "output_type": "execute_result"
    }
   ],
   "source": [
    "def task_12_np():\n",
    "    n = int(input())\n",
    "    Z = np.zeros((n,n), dtype=int)\n",
    "    Z[1:-1,1:-1] = 1\n",
    "    return Z\n",
    "\n",
    "task_12_np()"
   ]
  },
  {
   "cell_type": "code",
   "execution_count": 23,
   "id": "4a36eb9b",
   "metadata": {},
   "outputs": [
    {
     "name": "stdout",
     "output_type": "stream",
     "text": [
      "4\n",
      "[[0101]\n",
      " [0101]\n",
      " [0101]\n",
      " [0101]]\n"
     ]
    },
    {
     "data": {
      "text/plain": [
       "'[[0101]\\n [0101]\\n [0101]\\n [0101]]'"
      ]
     },
     "execution_count": 23,
     "metadata": {},
     "output_type": "execute_result"
    }
   ],
   "source": [
    "# Заповнити парні стовбчики матриці розміром n х n одиницями, а непарні – нулями.\n",
    "def task_15(): \n",
    "    n = int(input())  \n",
    "    text = \"[\"\n",
    "    for i in range(n):\n",
    "        text= text+\"[\"\n",
    "        for j in range(n):\n",
    "            if j%2:\n",
    "                text = text + \"1\"\n",
    "            else:\n",
    "                text = text + \"0\"\n",
    "        text= text+\"]\"\n",
    "        if i != n-1:\n",
    "            text = text + \"\\n \"\n",
    "    text = text + \"]\"\n",
    "    print(text)\n",
    "    return text\n",
    "\n",
    "task_15()"
   ]
  },
  {
   "cell_type": "code",
   "execution_count": 20,
   "id": "8541d40b",
   "metadata": {},
   "outputs": [
    {
     "name": "stdout",
     "output_type": "stream",
     "text": [
      "3\n"
     ]
    },
    {
     "data": {
      "text/plain": [
       "array([[0, 1, 0],\n",
       "       [0, 1, 0],\n",
       "       [0, 1, 0]])"
      ]
     },
     "execution_count": 20,
     "metadata": {},
     "output_type": "execute_result"
    }
   ],
   "source": [
    "def task_15_np():\n",
    "    n = int(input())\n",
    "    Z = np.ones((n,n), dtype=int)\n",
    "    Z[::1,::2] = 0\n",
    "    return Z\n",
    "\n",
    "task_15_np()"
   ]
  },
  {
   "cell_type": "code",
   "execution_count": 24,
   "id": "3ccd318b-ffbb-4ba1-abf0-2b2e24715e9c",
   "metadata": {},
   "outputs": [
    {
     "name": "stdout",
     "output_type": "stream",
     "text": [
      "12\n"
     ]
    },
    {
     "data": {
      "text/plain": [
       "[0, -1, -2, -3, -4, -5, 6, 7, 8, 9, -10, -11, -12]"
      ]
     },
     "execution_count": 24,
     "metadata": {},
     "output_type": "execute_result"
    }
   ],
   "source": [
    "def task_17():\n",
    "    n = int(input())\n",
    "    vector = []\n",
    "    for number in range(n+1):\n",
    "        vector.append(number)\n",
    "    for i in vector:\n",
    "        if (i < n/2): \n",
    "             vector[i] = -vector[i]\n",
    "        if (i > 3*n/4): \n",
    "             vector[i] = -vector[i]\n",
    "    return vector\n",
    "\n",
    "task_17()"
   ]
  },
  {
   "cell_type": "code",
   "execution_count": 34,
   "id": "0eb7dca8",
   "metadata": {},
   "outputs": [
    {
     "name": "stdout",
     "output_type": "stream",
     "text": [
      "12\n",
      "[  0  -1  -2  -3  -4  -5   6   7   8   9 -10 -11 -12]\n"
     ]
    }
   ],
   "source": [
    "def task_17_np():\n",
    "    n = int(input())\n",
    "    arr = np.arange(n+1)\n",
    "    arr2= np.where((arr < n/2) | (arr>3*n/4), -arr, arr)\n",
    "    print(arr2)\n",
    "    \n",
    "task_17_np()"
   ]
  },
  {
   "cell_type": "code",
   "execution_count": 25,
   "id": "e7dd759d",
   "metadata": {},
   "outputs": [
    {
     "name": "stdout",
     "output_type": "stream",
     "text": [
      "6\n",
      "В послідовності  [65, 44, 73, 24, 3, 63] - 6 унікальних чисел\n"
     ]
    }
   ],
   "source": [
    "def task_18():\n",
    "    n = int(input())\n",
    "    randnums = [randint(0,99) for _ in range(n)]\n",
    "    uniqRandNums = []\n",
    "\n",
    "    for item in randnums: \n",
    "        if item not in uniqRandNums: \n",
    "            uniqRandNums.append(item)\n",
    "    print(\"В послідовності \", randnums, \"-\", len(uniqRandNums), \"унікальних чисел\")\n",
    "    \n",
    "task_18()"
   ]
  },
  {
   "cell_type": "code",
   "execution_count": 40,
   "id": "020adebb",
   "metadata": {},
   "outputs": [
    {
     "name": "stdout",
     "output_type": "stream",
     "text": [
      "12\n",
      "10\n",
      "В послідовності  [77  9 57 70 34  5 30 79 59  9 25 34] -10 унікальних чисел\n"
     ]
    }
   ],
   "source": [
    "def task_18_np():\n",
    "    n = int(input())\n",
    "    randnums= np.random.randint(0,99,n)\n",
    "    print(len(np.unique(randnums)))\n",
    "    print(\"В послідовності \",randnums, \"-\", len(np.unique(randnums)), \"унікальних чисел\")\n",
    "    \n",
    "task_18_np()"
   ]
  },
  {
   "cell_type": "code",
   "execution_count": 4,
   "id": "765b5ca0",
   "metadata": {},
   "outputs": [],
   "source": [
    "def transposeMatrix(m):\n",
    "    return map(list,zip(*m))\n",
    "\n",
    "def getMatrixMinor(m,i,j):\n",
    "    return [row[:j] + row[j+1:] for row in (m[:i]+m[i+1:])]\n",
    "\n",
    "def getMatrixDeterminant(m):\n",
    "    if len(m) == 2:\n",
    "        return m[0][0]*m[1][1]-m[0][1]*m[1][0]\n",
    "\n",
    "    determinant = 0\n",
    "    for c in range(len(m)):\n",
    "        determinant += ((-1)**c)*m[0][c]*getMatrixDeterminant(getMatrixMinor(m,0,c))\n",
    "    return determinant\n",
    "\n",
    "def mult_matr(a,b):\n",
    "    c=[[0 for i in range(3)] for i in range(3)]\n",
    "    for i in range(3):\n",
    "        for j in range(3):\n",
    "            c[i][j] = sum(a[i][kk] * b[kk][j] for kk in range(3))\n",
    "    return(c)\n",
    "\n",
    "def getMatrixInverse(m):\n",
    "    determinant = getMatrixDeterminant(m)\n",
    "    #special case for 2x2 matrix:\n",
    "    if len(m) == 2:\n",
    "        return [[m[1][1]/determinant, -1*m[0][1]/determinant],\n",
    "                [-1*m[1][0]/determinant, m[0][0]/determinant]]\n",
    "\n",
    "    #find matrix of cofactors\n",
    "    cofactors = []\n",
    "    for r in range(len(m)):\n",
    "        cofactorRow = []\n",
    "        for c in range(len(m)):\n",
    "            minor = getMatrixMinor(m,r,c)\n",
    "            cofactorRow.append(((-1)**(r+c)) * getMatrixDeternminant(minor))\n",
    "        cofactors.append(cofactorRow)\n",
    "    cofactors = transposeMatrix(cofactors)\n",
    "    for r in range(len(cofactors)):\n",
    "        for c in range(len(cofactors)):\n",
    "            cofactors[r][c] = cofactors[r][c]/determinant\n",
    "    return cofactors"
   ]
  },
  {
   "cell_type": "code",
   "execution_count": 5,
   "id": "13fecdc4",
   "metadata": {},
   "outputs": [
    {
     "name": "stdout",
     "output_type": "stream",
     "text": [
      "3.0 2.0 1.0 -1.0\n"
     ]
    }
   ],
   "source": [
    "#вирішення рівняння без numpy\n",
    "M =[[1,5,3,-4],[3,1,-2,0],[5,-7,0,10],[0,3,-5,0]]\n",
    "M1 =[[20,5,3,-4],[9,1,-2,0],[-9,-7,0,10],[1,3,-5,0]]\n",
    "M2 =[[1,20,3,-4],[3,9,-2,0],[5,-9,0,10],[0,1,-5,0]]\n",
    "M3 =[[1,5,20,-4],[3,1,9,0],[5,-7,-9,10],[0,3,1,0]]\n",
    "M4 =[[1,5,3,20],[3,1,-2,9],[5,-7,0,-9],[0,3,-5,1]]\n",
    "start_time = datetime.now()\n",
    "x1 = getMatrixDeterminant(M1)/getMatrixDeterminant(M)\n",
    "x2 = getMatrixDeterminant(M2)/getMatrixDeterminant(M)\n",
    "x3 = getMatrixDeterminant(M3)/getMatrixDeterminant(M)\n",
    "x4 = getMatrixDeterminant(M4)/getMatrixDeterminant(M)\n",
    "wNumpyR = datetime.now() - start_time\n",
    "print(x1, x2, x3, x4)"
   ]
  },
  {
   "cell_type": "code",
   "execution_count": 6,
   "id": "2b7d8dcf",
   "metadata": {},
   "outputs": [
    {
     "name": "stdout",
     "output_type": "stream",
     "text": [
      "[ 3.  2.  1. -1.]\n"
     ]
    }
   ],
   "source": [
    "#вирішення рівняння з numpy\n",
    "Md =np.array([[1,5,3,-4],[3,1,-2,0],[5,-7,0,10],[0,3,-5,0]])\n",
    "Md2=np.array([20,9,-9,1])\n",
    "start_time = datetime.now()\n",
    "R = np.linalg.solve(Md,Md2)\n",
    "numpyR = datetime.now() - start_time\n",
    "print(R)"
   ]
  },
  {
   "cell_type": "code",
   "execution_count": 17,
   "id": "3ef85abd",
   "metadata": {},
   "outputs": [
    {
     "name": "stdout",
     "output_type": "stream",
     "text": [
      "0:00:00 0:00:00.018971\n"
     ]
    }
   ],
   "source": [
    "print(wNumpyR,numpyR)"
   ]
  },
  {
   "cell_type": "code",
   "execution_count": 21,
   "id": "5faffece",
   "metadata": {},
   "outputs": [
    {
     "name": "stdout",
     "output_type": "stream",
     "text": [
      "[[20], [9], [-9], [1]]\n"
     ]
    }
   ],
   "source": [
    "#матричне множення\n",
    "p = [[3],[2],[1],[-1]]\n",
    "def multMatrParams(a,b,k,m, n):\n",
    "    c = [[None for i in range(k)] for i in range(m)]    # c: m × k\n",
    "\n",
    "    for i in range(m):\n",
    "        for j in range(k):       \n",
    "            c[i][j] = sum(a[i][kk] * b[kk][j] for kk in range(n))\n",
    "    return c\n",
    "  \n",
    "print(multMatrParams(Md, p, 1,4,4))"
   ]
  },
  {
   "cell_type": "code",
   "execution_count": 11,
   "id": "15f31b2b",
   "metadata": {},
   "outputs": [],
   "source": [
    "def sum_matr(a,b):\n",
    "    c=[[0 for i in range(3)] for i in range(3)]\n",
    "    for i in range(3):\n",
    "        for j in range(3):\n",
    "            c[i][j] = a[i][j]+b[i][j]\n",
    "    return(c)\n",
    "    \n",
    "def dist_matr(a,b):\n",
    "    c=[[0 for i in range(3)] for i in range(3)]\n",
    "    for i in range(3):\n",
    "        for j in range(3):\n",
    "            c[i][j] = a[i][j]-b[i][j]\n",
    "    return(c)\n",
    "    \n",
    "def mult_matr(a,b):\n",
    "    c=[[0 for i in range(3)] for i in range(3)]\n",
    "    for i in range(3):\n",
    "        for j in range(3):\n",
    "            c[i][j] = sum(a[i][kk] * b[kk][j] for kk in range(3))\n",
    "    return(c)\n",
    "\n",
    "def sq_matr(a):\n",
    "    c=[[0 for i in range(3)] for i in range(3)]\n",
    "    for i in range(3):\n",
    "        for j in range(3):\n",
    "            c[i][j] = sum(a[i][kk] * a[kk][j] for kk in range(3))\n",
    "    return(c)"
   ]
  },
  {
   "cell_type": "code",
   "execution_count": 12,
   "id": "d197a238",
   "metadata": {},
   "outputs": [
    {
     "name": "stdout",
     "output_type": "stream",
     "text": [
      "[[541, 410, 9], [1198, 886, -32], [715, 582, -49]]\n",
      "0:00:00.000999\n"
     ]
    }
   ],
   "source": [
    "#обчислити значення матричного виразу без numpy\n",
    "a=[[5,2,0],[10,4, 1],[7,3,2]]\n",
    "b=[[3,6,-1],[-1,-2,0],[2,1,3]]\n",
    "start_time = datetime.now()\n",
    "C1=sum_matr(a,b)\n",
    "A2=sq_matr(a)\n",
    "B2=sq_matr(b)\n",
    "C2=dist_matr(A2,B2)\n",
    "R1=mult_matr(C2,C1)\n",
    "\n",
    "print(R1)\n",
    "print(datetime.now() - start_time)"
   ]
  },
  {
   "cell_type": "code",
   "execution_count": 13,
   "id": "fcd36e68",
   "metadata": {},
   "outputs": [
    {
     "name": "stdout",
     "output_type": "stream",
     "text": [
      "[[ 541  410    9]\n",
      " [1198  886  -32]\n",
      " [ 715  582  -49]]\n",
      "0:00:00.000998\n"
     ]
    }
   ],
   "source": [
    "#обчислити значення матричного виразу з numpy\n",
    "a=[[5,2,0],[10,4, 1],[7,3,2]]\n",
    "b=[[3,6,-1],[-1,-2,0],[2,1,3]]\n",
    "   \n",
    "start_time = datetime.now()\n",
    "C = np.add(a,b)\n",
    "A2 = np.dot(a,a)\n",
    "B2 = np.dot(b,b)\n",
    "D = np.subtract(A2,B2)\n",
    "R2 = np.dot(D,C)\n",
    "\n",
    "print(R2)\n",
    "print(datetime.now() - start_time)"
   ]
  },
  {
   "cell_type": "code",
   "execution_count": 14,
   "id": "a81dcbbe",
   "metadata": {},
   "outputs": [
    {
     "data": {
      "text/plain": [
       "True"
      ]
     },
     "execution_count": 14,
     "metadata": {},
     "output_type": "execute_result"
    }
   ],
   "source": [
    "np.allclose(R1,R2)"
   ]
  },
  {
   "cell_type": "code",
   "execution_count": null,
   "id": "06c7a9d2",
   "metadata": {},
   "outputs": [],
   "source": []
  }
 ],
 "metadata": {
  "kernelspec": {
   "display_name": "Python 3 (ipykernel)",
   "language": "python",
   "name": "python3"
  },
  "language_info": {
   "codemirror_mode": {
    "name": "ipython",
    "version": 3
   },
   "file_extension": ".py",
   "mimetype": "text/x-python",
   "name": "python",
   "nbconvert_exporter": "python",
   "pygments_lexer": "ipython3",
   "version": "3.9.13"
  }
 },
 "nbformat": 4,
 "nbformat_minor": 5
}
