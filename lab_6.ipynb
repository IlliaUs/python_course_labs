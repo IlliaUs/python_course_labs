{
 "cells": [
  {
   "cell_type": "code",
   "execution_count": 6,
   "id": "b72c7187",
   "metadata": {},
   "outputs": [],
   "source": [
    "import pandas as pd\n",
    "df = pd.read_csv('NationalNames.csv')"
   ]
  },
  {
   "cell_type": "code",
   "execution_count": 7,
   "id": "198caa5f",
   "metadata": {},
   "outputs": [
    {
     "name": "stdout",
     "output_type": "stream",
     "text": [
      "   Id       Name  Year Gender  Count\n",
      "0   1       Mary  1880      F   7065\n",
      "1   2       Anna  1880      F   2604\n",
      "2   3       Emma  1880      F   2003\n",
      "3   4  Elizabeth  1880      F   1939\n",
      "4   5     Minnie  1880      F   1746\n",
      "5   6   Margaret  1880      F   1578\n",
      "6   7        Ida  1880      F   1472\n",
      "7   8      Alice  1880      F   1414\n"
     ]
    }
   ],
   "source": [
    "#task_1\n",
    "print(df.head(8))"
   ]
  },
  {
   "cell_type": "code",
   "execution_count": 8,
   "id": "133fdd46",
   "metadata": {},
   "outputs": [
    {
     "name": "stdout",
     "output_type": "stream",
     "text": [
      "Index(['Id', 'Name', 'Year', 'Gender', 'Count'], dtype='object')\n"
     ]
    }
   ],
   "source": [
    "#task_3\n",
    "print(df.keys())"
   ]
  },
  {
   "cell_type": "code",
   "execution_count": 8,
   "id": "f3e07af2",
   "metadata": {},
   "outputs": [
    {
     "data": {
      "text/plain": [
       "Gender\n",
       "F    64911\n",
       "M    39199\n",
       "Name: Name, dtype: int64"
      ]
     },
     "execution_count": 8,
     "metadata": {},
     "output_type": "execute_result"
    }
   ],
   "source": [
    "#task_6\n",
    "byGender = df.groupby(['Gender'])\n",
    "byGender.Name.nunique()"
   ]
  },
  {
   "cell_type": "code",
   "execution_count": 18,
   "id": "f4adca90",
   "metadata": {},
   "outputs": [
    {
     "name": "stdout",
     "output_type": "stream",
     "text": [
      "              Id     Name  Year Gender  Count\n",
      "1677392  1677393    Jacob  2010      M  22082\n",
      "1677393  1677394    Ethan  2010      M  17985\n",
      "1677394  1677395  Michael  2010      M  17308\n",
      "1677395  1677396   Jayden  2010      M  17152\n",
      "1677396  1677397  William  2010      M  17030\n"
     ]
    }
   ],
   "source": [
    "#task_7\n",
    "male2010 = df.loc[(df['Gender'] == 'M') & (df['Year'] == 2010)]\n",
    "print(male2010.head(5))"
   ]
  },
  {
   "cell_type": "code",
   "execution_count": 168,
   "id": "bd30747a",
   "metadata": {},
   "outputs": [
    {
     "name": "stdout",
     "output_type": "stream",
     "text": [
      "the name is Linda in 1947\n"
     ]
    }
   ],
   "source": [
    "#task8\n",
    "mostPopularName1947= df.loc[(df['Year'] == 1947)].sort_values(by=['Count'], ascending=False).head(1)['Name']\n",
    "print('the name is',mostPopularName1947.item(), 'in 1947')"
   ]
  },
  {
   "cell_type": "code",
   "execution_count": 169,
   "id": "c7d33155",
   "metadata": {},
   "outputs": [
    {
     "data": {
      "text/plain": [
       "'Jacob'"
      ]
     },
     "execution_count": 169,
     "metadata": {},
     "output_type": "execute_result"
    }
   ],
   "source": [
    "#task_12\n",
    "byYear = df.groupby(['Year'])\n",
    "mostUniqueNamesInYear = byYear.Name.nunique().reset_index().sort_values(by=['Name'], ascending=False).head(1)['Year'].item()\n",
    "df.loc[(df['Year'] == mostUniqueNamesInYear)].sort_values(by=['Count'], ascending=False).head(1)['Name'].item()"
   ]
  },
  {
   "cell_type": "code",
   "execution_count": 41,
   "id": "15c0066f",
   "metadata": {},
   "outputs": [
    {
     "name": "stdout",
     "output_type": "stream",
     "text": [
      "              Id   Name  Year Gender  Count\n",
      "1455556  1455557  Jacob  2004      F    171\n"
     ]
    }
   ],
   "source": [
    "#task_13\n",
    "jacobWasPopular = df.loc[(df['Name'] == 'Jacob') & (df['Gender'] == 'F')].sort_values(by=['Count'], ascending=False).head(1)\n",
    "print(jacobWasPopular)"
   ]
  },
  {
   "cell_type": "code",
   "execution_count": 39,
   "id": "d087f7ba",
   "metadata": {},
   "outputs": [
    {
     "name": "stdout",
     "output_type": "stream",
     "text": [
      "     Year  Name\n",
      "128  2008  2557\n"
     ]
    }
   ],
   "source": [
    "#task_14\n",
    "femaleSet = df[df.Gender == 'F']\n",
    "maleSet = df[df.Gender == 'M']\n",
    "mergedSet = pd.merge(femaleSet, maleSet, how ='inner', on =['Name', 'Year']).groupby(['Year']).Name.nunique().reset_index().sort_values(by=['Name'], ascending=False).head(1)\n",
    "print(mergedSet)"
   ]
  },
  {
   "cell_type": "code",
   "execution_count": 10,
   "id": "80e395a4",
   "metadata": {},
   "outputs": [
    {
     "data": {
      "text/html": [
       "<div>\n",
       "<style scoped>\n",
       "    .dataframe tbody tr th:only-of-type {\n",
       "        vertical-align: middle;\n",
       "    }\n",
       "\n",
       "    .dataframe tbody tr th {\n",
       "        vertical-align: top;\n",
       "    }\n",
       "\n",
       "    .dataframe thead th {\n",
       "        text-align: right;\n",
       "    }\n",
       "</style>\n",
       "<table border=\"1\" class=\"dataframe\">\n",
       "  <thead>\n",
       "    <tr style=\"text-align: right;\">\n",
       "      <th></th>\n",
       "      <th>Year</th>\n",
       "      <th>Count</th>\n",
       "    </tr>\n",
       "  </thead>\n",
       "  <tbody>\n",
       "    <tr>\n",
       "      <th>0</th>\n",
       "      <td>1880</td>\n",
       "      <td>201484</td>\n",
       "    </tr>\n",
       "    <tr>\n",
       "      <th>1</th>\n",
       "      <td>1881</td>\n",
       "      <td>192699</td>\n",
       "    </tr>\n",
       "    <tr>\n",
       "      <th>2</th>\n",
       "      <td>1882</td>\n",
       "      <td>221538</td>\n",
       "    </tr>\n",
       "    <tr>\n",
       "      <th>3</th>\n",
       "      <td>1883</td>\n",
       "      <td>216950</td>\n",
       "    </tr>\n",
       "    <tr>\n",
       "      <th>4</th>\n",
       "      <td>1884</td>\n",
       "      <td>243467</td>\n",
       "    </tr>\n",
       "    <tr>\n",
       "      <th>...</th>\n",
       "      <td>...</td>\n",
       "      <td>...</td>\n",
       "    </tr>\n",
       "    <tr>\n",
       "      <th>130</th>\n",
       "      <td>2010</td>\n",
       "      <td>3686589</td>\n",
       "    </tr>\n",
       "    <tr>\n",
       "      <th>131</th>\n",
       "      <td>2011</td>\n",
       "      <td>3646730</td>\n",
       "    </tr>\n",
       "    <tr>\n",
       "      <th>132</th>\n",
       "      <td>2012</td>\n",
       "      <td>3643336</td>\n",
       "    </tr>\n",
       "    <tr>\n",
       "      <th>133</th>\n",
       "      <td>2013</td>\n",
       "      <td>3626802</td>\n",
       "    </tr>\n",
       "    <tr>\n",
       "      <th>134</th>\n",
       "      <td>2014</td>\n",
       "      <td>3670151</td>\n",
       "    </tr>\n",
       "  </tbody>\n",
       "</table>\n",
       "<p>135 rows × 2 columns</p>\n",
       "</div>"
      ],
      "text/plain": [
       "     Year    Count\n",
       "0    1880   201484\n",
       "1    1881   192699\n",
       "2    1882   221538\n",
       "3    1883   216950\n",
       "4    1884   243467\n",
       "..    ...      ...\n",
       "130  2010  3686589\n",
       "131  2011  3646730\n",
       "132  2012  3643336\n",
       "133  2013  3626802\n",
       "134  2014  3670151\n",
       "\n",
       "[135 rows x 2 columns]"
      ]
     },
     "execution_count": 10,
     "metadata": {},
     "output_type": "execute_result"
    }
   ],
   "source": [
    "#task_15\n",
    "df.groupby([\"Year\"]).Count.sum().reset_index()"
   ]
  },
  {
   "cell_type": "code",
   "execution_count": 23,
   "id": "0f4c2828",
   "metadata": {},
   "outputs": [
    {
     "name": "stdout",
     "output_type": "stream",
     "text": [
      "77    1957\n"
     ]
    }
   ],
   "source": [
    "#task_16\n",
    "print(df.groupby([\"Year\"]).Count.sum().reset_index().sort_values(by=['Count'], ascending=False).head(1)['Year'].to_string())"
   ]
  },
  {
   "cell_type": "code",
   "execution_count": 145,
   "id": "3061597e",
   "metadata": {},
   "outputs": [
    {
     "name": "stdout",
     "output_type": "stream",
     "text": [
      "     Year        F        M\n",
      "0    1880    90993   110491\n",
      "1    1881    91954   100745\n",
      "2    1882   107850   113688\n",
      "3    1883   112321   104629\n",
      "4    1884   129022   114445\n",
      "..    ...      ...      ...\n",
      "130  2010  1772738  1913851\n",
      "131  2011  1753500  1893230\n",
      "132  2012  1753922  1889414\n",
      "133  2013  1745339  1881463\n",
      "134  2014  1768775  1901376\n",
      "\n",
      "[135 rows x 3 columns]\n"
     ]
    }
   ],
   "source": [
    "#task_17\n",
    "f=df.loc[(df['Gender'] == 'F')].groupby([\"Year\", 'Gender']).Count.sum().reset_index()\n",
    "m=df.loc[(df['Gender'] == 'M')].groupby([\"Year\", 'Gender']).Count.sum().reset_index()\n",
    "accumulate = pd.DataFrame()\n",
    "\n",
    "accumulate['Year'] = m['Year']\n",
    "accumulate['F'] = f['Count']\n",
    "accumulate['M'] = m['Count']\n",
    "print(accumulate)\n"
   ]
  },
  {
   "cell_type": "code",
   "execution_count": 146,
   "id": "7c3b4ff7",
   "metadata": {},
   "outputs": [
    {
     "data": {
      "text/plain": [
       "<AxesSubplot:xlabel='Year'>"
      ]
     },
     "execution_count": 146,
     "metadata": {},
     "output_type": "execute_result"
    },
    {
     "data": {
      "image/png": "[encoded data removed]",
      "text/plain": [
       "<Figure size 640x480 with 1 Axes>"
      ]
     },
     "metadata": {},
     "output_type": "display_data"
    }
   ],
   "source": [
    "#task_19\n",
    "accumulate.set_index('Year', inplace = True)\n",
    "accumulate.plot()"
   ]
  },
  {
   "cell_type": "code",
   "execution_count": 110,
   "id": "cec11139",
   "metadata": {},
   "outputs": [
    {
     "name": "stdout",
     "output_type": "stream",
     "text": [
      "10221\n"
     ]
    }
   ],
   "source": [
    "#task_20\n",
    "femaleSet = df[df.Gender == 'F']\n",
    "maleSet = df[df.Gender == 'M']\n",
    "mergedSet = pd.merge(femaleSet, maleSet, how ='inner', on =['Name']).Name.nunique()\n",
    "print(mergedSet)"
   ]
  },
  {
   "cell_type": "code",
   "execution_count": 112,
   "id": "1c68b015",
   "metadata": {},
   "outputs": [
    {
     "name": "stdout",
     "output_type": "stream",
     "text": [
      "Спостереження проводилося  135 років\n"
     ]
    }
   ],
   "source": [
    "#task_22\n",
    "print('Спостереження проводилося ', df.Year.nunique(), 'років')"
   ]
  },
  {
   "cell_type": "code",
   "execution_count": 154,
   "id": "e4dbe02e",
   "metadata": {
    "scrolled": true
   },
   "outputs": [
    {
     "data": {
      "text/plain": [
       "<AxesSubplot:xlabel='Year'>"
      ]
     },
     "execution_count": 154,
     "metadata": {},
     "output_type": "execute_result"
    },
    {
     "data": {
      "image/png": "[encoded data removed]",
      "text/plain": [
       "<Figure size 640x480 with 1 Axes>"
      ]
     },
     "metadata": {},
     "output_type": "display_data"
    }
   ],
   "source": [
    "#task_25\n",
    "john = df.loc[(df['Name']) == 'John'].groupby(['Year']).Count.sum()\n",
    "mary = df.loc[(df['Name']) == 'Mary'].groupby(['Year']).Count.sum()\n",
    "johnMary = pd.DataFrame()\n",
    "johnMary['john'] = john\n",
    "johnMary['mary'] = mary\n",
    "johnMary.plot()"
   ]
  },
  {
   "cell_type": "code",
   "execution_count": 184,
   "id": "033f438a",
   "metadata": {},
   "outputs": [
    {
     "data": {
      "text/plain": [
       "<AxesSubplot:xlabel='Year'>"
      ]
     },
     "execution_count": 184,
     "metadata": {},
     "output_type": "execute_result"
    },
    {
     "data": {
      "image/png": "[encoded data removed]",
      "text/plain": [
       "<Figure size 640x480 with 1 Axes>"
      ]
     },
     "metadata": {},
     "output_type": "display_data"
    }
   ],
   "source": [
    "#task_26\n",
    "johnF= df.loc[(df['Name'] == 'John') & (df['Gender'] == 'F')].groupby(['Year']).Count.sum()\n",
    "maryM = df.loc[(df['Name'] == 'Mary') & (df['Gender'] == 'M')].groupby(['Year']).Count.sum()\n",
    "johnMaryNeutral = pd.DataFrame()\n",
    "johnMaryNeutral['john'] = johnF\n",
    "johnMaryNeutral['mary'] = maryM\n",
    "johnMaryNeutral.plot()"
   ]
  },
  {
   "cell_type": "code",
   "execution_count": 13,
   "id": "43ce0df0",
   "metadata": {},
   "outputs": [
    {
     "data": {
      "text/plain": [
       "Year  Id       Name       Gender  Count\n",
       "1880  1        Mary       F       7065     1\n",
       "      2        Anna       F       2604     1\n",
       "      1185     Preston    M       47       1\n",
       "      1196     Glenn      M       43       1\n",
       "      1195     Christian  M       43       1\n",
       "                                          ..\n",
       "2014  1806417  Najia      F       7        1\n",
       "      1806416  Najat      F       7        1\n",
       "      1806415  Nairi      F       7        1\n",
       "      1806414  Naida      F       7        1\n",
       "      1825433  Zyrin      M       5        1\n",
       "Length: 1825433, dtype: int64"
      ]
     },
     "execution_count": 13,
     "metadata": {},
     "output_type": "execute_result"
    }
   ],
   "source": [
    "#task_27\n",
    "df.groupby(['Year']).value_counts()"
   ]
  },
  {
   "cell_type": "code",
   "execution_count": 190,
   "id": "756d4746",
   "metadata": {},
   "outputs": [
    {
     "data": {
      "text/html": [
       "<div>\n",
       "<style scoped>\n",
       "    .dataframe tbody tr th:only-of-type {\n",
       "        vertical-align: middle;\n",
       "    }\n",
       "\n",
       "    .dataframe tbody tr th {\n",
       "        vertical-align: top;\n",
       "    }\n",
       "\n",
       "    .dataframe thead th {\n",
       "        text-align: right;\n",
       "    }\n",
       "</style>\n",
       "<table border=\"1\" class=\"dataframe\">\n",
       "  <thead>\n",
       "    <tr style=\"text-align: right;\">\n",
       "      <th></th>\n",
       "      <th>Year</th>\n",
       "      <th>Name</th>\n",
       "      <th>freq</th>\n",
       "    </tr>\n",
       "  </thead>\n",
       "  <tbody>\n",
       "  </tbody>\n",
       "</table>\n",
       "</div>"
      ],
      "text/plain": [
       "Empty DataFrame\n",
       "Columns: [Year, Name, freq]\n",
       "Index: []"
      ]
     },
     "execution_count": 190,
     "metadata": {},
     "output_type": "execute_result"
    }
   ],
   "source": [
    "\n"
   ]
  },
  {
   "cell_type": "code",
   "execution_count": 10,
   "id": "abf664b2",
   "metadata": {},
   "outputs": [
    {
     "name": "stdout",
     "output_type": "stream",
     "text": [
      "942\n",
      "9655\n",
      "2938\n",
      "8769\n",
      "4963\n",
      "9557\n",
      "7116\n",
      "8894\n",
      "9318\n",
      "9388\n",
      "10443\n",
      "9128\n",
      "12737\n",
      "9890\n",
      "15129\n",
      "9888\n",
      "17502\n",
      "11754\n",
      "20153\n",
      "11648\n",
      "22743\n",
      "12078\n",
      "25438\n",
      "11703\n",
      "28098\n",
      "13173\n",
      "31019\n",
      "12784\n",
      "33850\n",
      "13151\n",
      "36791\n",
      "13446\n",
      "39840\n",
      "13811\n",
      "42931\n",
      "13413\n",
      "45959\n",
      "14406\n",
      "49223\n",
      "13172\n",
      "52265\n",
      "16707\n",
      "55996\n",
      "13136\n",
      "59149\n",
      "14486\n",
      "62511\n",
      "14275\n",
      "65900\n",
      "14962\n",
      "69461\n",
      "16067\n",
      "73117\n",
      "16370\n",
      "76750\n",
      "17580\n",
      "80698\n",
      "18666\n",
      "84716\n",
      "19259\n",
      "88943\n",
      "22848\n",
      "93572\n",
      "24390\n",
      "98439\n",
      "32303\n",
      "104790\n",
      "36641\n",
      "111757\n",
      "45344\n",
      "119720\n",
      "58187\n",
      "129078\n",
      "61437\n",
      "138774\n",
      "64280\n",
      "148689\n",
      "67370\n",
      "159089\n",
      "65840\n",
      "169459\n",
      "70976\n",
      "180215\n",
      "73985\n",
      "191071\n",
      "72171\n",
      "201828\n",
      "71634\n",
      "212471\n",
      "73527\n",
      "223338\n",
      "70601\n",
      "233980\n",
      "67823\n",
      "244441\n",
      "70632\n",
      "254848\n",
      "66866\n",
      "265008\n",
      "63508\n",
      "274823\n",
      "64134\n",
      "289588\n",
      "60497\n",
      "293902\n",
      "59871\n",
      "303284\n",
      "55493\n",
      "312295\n",
      "56918\n",
      "326364\n",
      "56514\n",
      "335364\n",
      "58486\n",
      "344329\n",
      "61821\n",
      "353340\n",
      "62262\n",
      "362328\n",
      "59640\n",
      "371320\n",
      "62472\n",
      "380342\n",
      "66719\n",
      "389719\n",
      "77173\n",
      "399129\n",
      "80248\n",
      "408415\n",
      "76944\n",
      "417567\n",
      "74450\n",
      "427036\n",
      "87425\n",
      "431052\n",
      "99680\n",
      "441424\n",
      "96205\n",
      "451659\n",
      "91010\n",
      "468033\n",
      "86221\n",
      "478441\n",
      "87175\n",
      "489080\n",
      "87083\n",
      "499837\n",
      "86135\n",
      "510784\n",
      "88485\n",
      "521858\n",
      "88283\n",
      "533139\n",
      "90633\n",
      "544602\n",
      "92709\n",
      "556176\n",
      "90519\n",
      "567866\n",
      "85272\n",
      "579774\n",
      "85931\n",
      "591893\n",
      "86916\n",
      "604124\n",
      "85046\n",
      "616406\n",
      "83795\n",
      "628827\n",
      "82674\n",
      "640953\n",
      "81048\n",
      "652985\n",
      "80002\n",
      "665368\n",
      "82454\n",
      "678111\n",
      "82019\n",
      "691552\n",
      "85227\n",
      "705940\n",
      "85321\n",
      "721004\n",
      "77611\n",
      "736319\n",
      "71426\n",
      "751871\n",
      "67864\n",
      "767985\n",
      "67577\n",
      "784593\n",
      "68457\n",
      "801822\n",
      "66971\n",
      "819636\n",
      "67611\n",
      "837950\n",
      "67153\n",
      "856669\n",
      "67728\n",
      "875895\n",
      "68666\n",
      "895361\n",
      "68752\n",
      "914964\n",
      "68204\n",
      "934385\n",
      "67986\n",
      "953885\n",
      "67722\n",
      "973713\n",
      "64887\n",
      "994109\n",
      "64184\n",
      "1015182\n",
      "63631\n",
      "1037201\n",
      "64116\n",
      "1060227\n",
      "65374\n",
      "1084683\n",
      "65274\n",
      "1109624\n",
      "60781\n",
      "1134874\n",
      "54377\n",
      "1160480\n",
      "49553\n",
      "1186395\n",
      "44465\n",
      "1212393\n",
      "41403\n",
      "1238608\n",
      "38364\n",
      "1265293\n",
      "37543\n",
      "1292696\n",
      "36613\n",
      "1320932\n",
      "35344\n",
      "1350190\n",
      "34465\n",
      "1380267\n",
      "32527\n",
      "1410643\n",
      "30556\n",
      "1441545\n",
      "29615\n",
      "1473114\n",
      "27871\n",
      "1505505\n",
      "25814\n",
      "1538906\n",
      "24830\n",
      "1573480\n",
      "24252\n",
      "1608302\n",
      "22568\n",
      "1622908\n",
      "22278\n",
      "1657592\n",
      "22883\n",
      "1691633\n",
      "21816\n",
      "1725502\n",
      "22267\n",
      "1759186\n",
      "21147\n",
      "1792389\n",
      "20799\n"
     ]
    }
   ],
   "source": [
    "for f in df['Year'].unique() :\n",
    "    df_temp = df[(df['Year']==f)]\n",
    "    print(df_temp['Count'].idxmax())\n",
    "    print( df_temp['Count'].loc[df_temp['Count'].idxmax()])"
   ]
  },
  {
   "cell_type": "code",
   "execution_count": 15,
   "id": "8e0f4529",
   "metadata": {},
   "outputs": [
    {
     "name": "stdout",
     "output_type": "stream",
     "text": [
      "     Year      Name  Count\n",
      "0    1880      John   9655\n",
      "1    1881      John   8769\n",
      "2    1882      John   9557\n",
      "3    1883      John   8894\n",
      "4    1884      John   9388\n",
      "..    ...       ...    ...\n",
      "130  2010  Isabella  22883\n",
      "131  2011    Sophia  21816\n",
      "132  2012    Sophia  22267\n",
      "133  2013    Sophia  21147\n",
      "134  2014      Emma  20799\n",
      "\n",
      "[135 rows x 3 columns]\n"
     ]
    }
   ],
   "source": [
    "#Task_27\n",
    "mostPopularName = pd.DataFrame()\n",
    "nameColumn = []\n",
    "yearColumn = []\n",
    "countColumn = []\n",
    "for f in df['Year'].unique() :\n",
    "    df_temp = df[(df['Year']==f)]\n",
    "    count = df_temp['Count'].loc[df_temp['Count'].idxmax()]\n",
    "    name = df['Name'].loc[df_temp['Count'].idxmax()]\n",
    "    nameColumn.append(name)\n",
    "    countColumn.append(count)\n",
    "    yearColumn.append(f)\n",
    "mostPopularName['Year'] = yearColumn\n",
    "mostPopularName['Name'] = nameColumn\n",
    "mostPopularName['Count'] = countColumn\n",
    "\n",
    "print(mostPopularName)"
   ]
  },
  {
   "cell_type": "code",
   "execution_count": null,
   "id": "8c82d631",
   "metadata": {},
   "outputs": [],
   "source": []
  }
 ],
 "metadata": {
  "kernelspec": {
   "display_name": "Python 3 (ipykernel)",
   "language": "python",
   "name": "python3"
  },
  "language_info": {
   "codemirror_mode": {
    "name": "ipython",
    "version": 3
   },
   "file_extension": ".py",
   "mimetype": "text/x-python",
   "name": "python",
   "nbconvert_exporter": "python",
   "pygments_lexer": "ipython3",
   "version": "3.9.13"
  }
 },
 "nbformat": 4,
 "nbformat_minor": 5
}
