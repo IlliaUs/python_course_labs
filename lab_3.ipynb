{
 "cells": [
  {
   "cell_type": "code",
   "execution_count": 6,
   "id": "b7d6fac5",
   "metadata": {},
   "outputs": [
    {
     "name": "stdout",
     "output_type": "stream",
     "text": [
      "12\n",
      "78\n",
      "The Prime Numbers in the range are: \n",
      "13\n",
      "17\n",
      "19\n",
      "23\n",
      "29\n",
      "31\n",
      "37\n",
      "41\n",
      "43\n",
      "47\n",
      "53\n",
      "59\n",
      "61\n",
      "67\n",
      "71\n",
      "73\n"
     ]
    }
   ],
   "source": [
    "def task_6():\n",
    "    lower_value = int(input())\n",
    "    upper_value = int(input())\n",
    "    if (isinstance(lower_value, int) is False):\n",
    "        print('invalid type of beginning of the range')\n",
    "        return \n",
    "    if (isinstance(upper_value, int) is False):\n",
    "        print('invalid type of end of the range')\n",
    "        return \n",
    "    print (\"The Prime Numbers in the range are: \")  \n",
    "    for number in range (lower_value, upper_value + 1):  \n",
    "        if number > 1:  \n",
    "            for i in range (2, number):  \n",
    "                if (number % i) == 0:  \n",
    "                    break  \n",
    "            else:  \n",
    "                print (number)\n",
    "                \n",
    "task_6()\n"
   ]
  },
  {
   "cell_type": "code",
   "execution_count": null,
   "id": "49f9a4ad",
   "metadata": {},
   "outputs": [],
   "source": []
  }
 ],
 "metadata": {
  "kernelspec": {
   "display_name": "Python 3 (ipykernel)",
   "language": "python",
   "name": "python3"
  },
  "language_info": {
   "codemirror_mode": {
    "name": "ipython",
    "version": 3
   },
   "file_extension": ".py",
   "mimetype": "text/x-python",
   "name": "python",
   "nbconvert_exporter": "python",
   "pygments_lexer": "ipython3",
   "version": "3.9.13"
  }
 },
 "nbformat": 4,
 "nbformat_minor": 5
}
